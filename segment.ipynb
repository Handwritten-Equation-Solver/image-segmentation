{
 "cells": [
  {
   "cell_type": "code",
   "execution_count": 41,
   "metadata": {
    "scrolled": false
   },
   "outputs": [
    {
     "name": "stdout",
     "output_type": "stream",
     "text": [
      "(420, 500, 3)\n",
      "(420, 500)\n",
      "<class 'numpy.ndarray'>\n",
      "-1\n",
      "0\n",
      "1\n"
     ]
    }
   ],
   "source": [
    "import cv2\n",
    "import numpy as np\n",
    "im = cv2.imread(\"eq.png\")\n",
    "print(im.shape)\n",
    "gray_image = cv2.cvtColor(im, cv2.COLOR_BGR2GRAY)\n",
    "print(gray_image.shape)\n",
    "cv2.imwrite('gray_image.png',gray_image)\n",
    "print(type(gray_image))\n",
    "for i in range(-1,2):\n",
    "    print(i)"
   ]
  },
  {
   "cell_type": "code",
   "execution_count": 42,
   "metadata": {},
   "outputs": [],
   "source": [
    "def dfs(input_image,output_image,x,y):\n",
    "    if input_image[x][y] <= 123:\n",
    "        input_image[x][y] = 255\n",
    "        output_image[x][y] = 0\n",
    "        for i in range(-1,2):\n",
    "            for j in range(-1,2):\n",
    "                if i+x>=0 and i+x<input_image.shape[0] and y+j>=0 and y+j<input_image.shape[1] :\n",
    "                    input_image, output_image = dfs(input_image,output_image,x+i,y+j)\n",
    "    return input_image, output_image"
   ]
  },
  {
   "cell_type": "code",
   "execution_count": 43,
   "metadata": {},
   "outputs": [],
   "source": [
    "\n",
    "flag = 0\n",
    "for i in range(0,gray_image.shape[0]):\n",
    "    for j in range(0,gray_image.shape[1]):\n",
    "        if gray_image[i][j] == 0:\n",
    "            output_image = np.full((gray_image.shape[0], gray_image.shape[1]), 255)\n",
    "            gray_image, output_image = dfs(gray_image,output_image,i,j)\n",
    "            flag = flag + 1\n",
    "            cv2.imwrite('ouput_image'+str(flag)+'.png',output_image)"
   ]
  },
  {
   "cell_type": "code",
   "execution_count": null,
   "metadata": {},
   "outputs": [],
   "source": []
  }
 ],
 "metadata": {
  "kernelspec": {
   "display_name": "Python 3",
   "language": "python",
   "name": "python3"
  },
  "language_info": {
   "codemirror_mode": {
    "name": "ipython",
    "version": 3
   },
   "file_extension": ".py",
   "mimetype": "text/x-python",
   "name": "python",
   "nbconvert_exporter": "python",
   "pygments_lexer": "ipython3",
   "version": "3.6.3"
  }
 },
 "nbformat": 4,
 "nbformat_minor": 2
}
